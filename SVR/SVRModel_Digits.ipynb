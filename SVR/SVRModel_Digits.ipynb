{
  "nbformat": 4,
  "nbformat_minor": 0,
  "metadata": {
    "colab": {
      "name": "SVRModel_Digits.ipynb",
      "provenance": [],
      "authorship_tag": "ABX9TyOOtrQ2xnUavHUFCG3sGwlp",
      "include_colab_link": true
    },
    "kernelspec": {
      "name": "python3",
      "display_name": "Python 3"
    },
    "language_info": {
      "name": "python"
    }
  },
  "cells": [
    {
      "cell_type": "markdown",
      "metadata": {
        "id": "view-in-github",
        "colab_type": "text"
      },
      "source": [
        "<a href=\"https://colab.research.google.com/github/neerajviswajith/CE888_Lab10/blob/main/SVR/SVRModel_Digits.ipynb\" target=\"_parent\"><img src=\"https://colab.research.google.com/assets/colab-badge.svg\" alt=\"Open In Colab\"/></a>"
      ]
    },
    {
      "cell_type": "code",
      "metadata": {
        "id": "7HmyNcP45B0k"
      },
      "source": [
        "# Import Packages and Libraries\n",
        "\n",
        "import pickle\n",
        "import pandas as pd\n",
        "from sklearn.svm import SVR  \n",
        "from sklearn.datasets import load_boston\n",
        "from sklearn.metrics import mean_squared_error\n",
        "from sklearn.model_selection import train_test_split"
      ],
      "execution_count": 1,
      "outputs": []
    },
    {
      "cell_type": "code",
      "metadata": {
        "id": "CyJFBPdJ5YLW"
      },
      "source": [
        "# Loading Data\n",
        "\n",
        "data = load_boston()"
      ],
      "execution_count": 2,
      "outputs": []
    },
    {
      "cell_type": "code",
      "metadata": {
        "id": "gRPnjaP-6FzQ"
      },
      "source": [
        "# Split data\n",
        "Xtrain, Xtest, Ytrain, Ytest = train_test_split(data.data, \n",
        "                                                data.target, \n",
        "                                                test_size=0.3, \n",
        "                                                random_state=4)  "
      ],
      "execution_count": 3,
      "outputs": []
    },
    {
      "cell_type": "code",
      "metadata": {
        "colab": {
          "base_uri": "https://localhost:8080/"
        },
        "id": "_3BO6p4H6Qdo",
        "outputId": "0697eeff-8278-42e4-cca3-8bfe415a50c9"
      },
      "source": [
        "# Defining the Lohgistical Regression Model Model\n",
        "SVR_Model = SVR()\n",
        "\n",
        "# Train the Model\n",
        "SVR_Model.fit(Xtrain, Ytrain) "
      ],
      "execution_count": 4,
      "outputs": [
        {
          "output_type": "execute_result",
          "data": {
            "text/plain": [
              "SVR(C=1.0, cache_size=200, coef0=0.0, degree=3, epsilon=0.1, gamma='scale',\n",
              "    kernel='rbf', max_iter=-1, shrinking=True, tol=0.001, verbose=False)"
            ]
          },
          "metadata": {
            "tags": []
          },
          "execution_count": 4
        }
      ]
    },
    {
      "cell_type": "code",
      "metadata": {
        "id": "nuzZ_8n46loq"
      },
      "source": [
        "# Saving the model\n",
        "\n",
        "Pkl_Filename = \"HousingSVR_Model.pkl\"  \n",
        "\n",
        "with open(Pkl_Filename, 'wb') as file:  \n",
        "    pickle.dump(SVR_Model, file)"
      ],
      "execution_count": 5,
      "outputs": []
    },
    {
      "cell_type": "code",
      "metadata": {
        "colab": {
          "base_uri": "https://localhost:8080/"
        },
        "id": "5CZ-TSbY643q",
        "outputId": "710e47df-20f8-40e7-8255-88bc012d5a46"
      },
      "source": [
        "# Loading the Model back from file\n",
        "with open(Pkl_Filename, 'rb') as file:  \n",
        "    SVR_Model = pickle.load(file)\n",
        "\n",
        "SVR_Model"
      ],
      "execution_count": 6,
      "outputs": [
        {
          "output_type": "execute_result",
          "data": {
            "text/plain": [
              "SVR(C=1.0, cache_size=200, coef0=0.0, degree=3, epsilon=0.1, gamma='scale',\n",
              "    kernel='rbf', max_iter=-1, shrinking=True, tol=0.001, verbose=False)"
            ]
          },
          "metadata": {
            "tags": []
          },
          "execution_count": 6
        }
      ]
    },
    {
      "cell_type": "code",
      "metadata": {
        "colab": {
          "base_uri": "https://localhost:8080/"
        },
        "id": "HAJZEQ7_7THb",
        "outputId": "dec90387-35f6-45af-bb57-ff3541891752"
      },
      "source": [
        "# Prediction\n",
        "Ypredict = SVR_Model.predict(Xtest)  \n",
        "\n",
        "# Print the Score\n",
        "print(f'MSE score:{round(mean_squared_error(Ypredict,Ytest),2)}')"
      ],
      "execution_count": 7,
      "outputs": [
        {
          "output_type": "stream",
          "text": [
            "MSE score:90.75\n"
          ],
          "name": "stdout"
        }
      ]
    }
  ]
}