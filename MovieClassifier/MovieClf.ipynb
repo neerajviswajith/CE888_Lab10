{
  "nbformat": 4,
  "nbformat_minor": 0,
  "metadata": {
    "accelerator": "GPU",
    "colab": {
      "name": "MovieClf.ipynb",
      "provenance": [],
      "collapsed_sections": [],
      "toc_visible": true,
      "include_colab_link": true
    },
    "kernelspec": {
      "display_name": "Python 3",
      "language": "python",
      "name": "python3"
    },
    "language_info": {
      "codemirror_mode": {
        "name": "ipython",
        "version": 3
      },
      "file_extension": ".py",
      "mimetype": "text/x-python",
      "name": "python",
      "nbconvert_exporter": "python",
      "pygments_lexer": "ipython3",
      "version": "3.7.9"
    }
  },
  "cells": [
    {
      "cell_type": "markdown",
      "metadata": {
        "id": "view-in-github",
        "colab_type": "text"
      },
      "source": [
        "<a href=\"https://colab.research.google.com/github/neerajviswajith/CE888_Lab10/blob/main/MovieClassifier/MovieClf.ipynb\" target=\"_parent\"><img src=\"https://colab.research.google.com/assets/colab-badge.svg\" alt=\"Open In Colab\"/></a>"
      ]
    },
    {
      "cell_type": "markdown",
      "metadata": {
        "id": "jJbW8kTKr5nh"
      },
      "source": [
        "### 1. Data retrieval and pre-processing"
      ]
    },
    {
      "cell_type": "code",
      "metadata": {
        "colab": {
          "base_uri": "https://localhost:8080/"
        },
        "id": "5kKoVpv2r5nh",
        "outputId": "55769ce7-b93f-4a19-96a6-de82774bfff4"
      },
      "source": [
        "# Importing libraries and corpora\n",
        "\n",
        "import nltk\n",
        "import pickle\n",
        "nltk.download('movie_reviews')\n",
        "import numpy as np\n",
        "import pandas as pd\n",
        "from nltk.corpus import movie_reviews as mr"
      ],
      "execution_count": 1,
      "outputs": [
        {
          "output_type": "stream",
          "text": [
            "[nltk_data] Downloading package movie_reviews to /root/nltk_data...\n",
            "[nltk_data]   Unzipping corpora/movie_reviews.zip.\n"
          ],
          "name": "stdout"
        }
      ]
    },
    {
      "cell_type": "code",
      "metadata": {
        "colab": {
          "base_uri": "https://localhost:8080/",
          "height": 195
        },
        "id": "x3tapRnRr5ni",
        "outputId": "e5935b93-b735-4614-cec7-1129395c8246"
      },
      "source": [
        "# Data pre-processing and creating pandas dataframe of reviews and lables\n",
        "\n",
        "reviews = []\n",
        "for fileid in mr.fileids():\n",
        "    tag, filename = fileid.split('/')\n",
        "    reviews.append((filename, tag, mr.raw(fileid)))\n",
        "\n",
        "frdf = pd.DataFrame(reviews, columns=['filename', 'label', 'review'])\n",
        "frdf.head()"
      ],
      "execution_count": 2,
      "outputs": [
        {
          "output_type": "execute_result",
          "data": {
            "text/html": [
              "<div>\n",
              "<style scoped>\n",
              "    .dataframe tbody tr th:only-of-type {\n",
              "        vertical-align: middle;\n",
              "    }\n",
              "\n",
              "    .dataframe tbody tr th {\n",
              "        vertical-align: top;\n",
              "    }\n",
              "\n",
              "    .dataframe thead th {\n",
              "        text-align: right;\n",
              "    }\n",
              "</style>\n",
              "<table border=\"1\" class=\"dataframe\">\n",
              "  <thead>\n",
              "    <tr style=\"text-align: right;\">\n",
              "      <th></th>\n",
              "      <th>filename</th>\n",
              "      <th>label</th>\n",
              "      <th>review</th>\n",
              "    </tr>\n",
              "  </thead>\n",
              "  <tbody>\n",
              "    <tr>\n",
              "      <th>0</th>\n",
              "      <td>cv000_29416.txt</td>\n",
              "      <td>neg</td>\n",
              "      <td>plot : two teen couples go to a church party ,...</td>\n",
              "    </tr>\n",
              "    <tr>\n",
              "      <th>1</th>\n",
              "      <td>cv001_19502.txt</td>\n",
              "      <td>neg</td>\n",
              "      <td>the happy bastard's quick movie review \\ndamn ...</td>\n",
              "    </tr>\n",
              "    <tr>\n",
              "      <th>2</th>\n",
              "      <td>cv002_17424.txt</td>\n",
              "      <td>neg</td>\n",
              "      <td>it is movies like these that make a jaded movi...</td>\n",
              "    </tr>\n",
              "    <tr>\n",
              "      <th>3</th>\n",
              "      <td>cv003_12683.txt</td>\n",
              "      <td>neg</td>\n",
              "      <td>\" quest for camelot \" is warner bros . ' firs...</td>\n",
              "    </tr>\n",
              "    <tr>\n",
              "      <th>4</th>\n",
              "      <td>cv004_12641.txt</td>\n",
              "      <td>neg</td>\n",
              "      <td>synopsis : a mentally unstable man undergoing ...</td>\n",
              "    </tr>\n",
              "  </tbody>\n",
              "</table>\n",
              "</div>"
            ],
            "text/plain": [
              "          filename label                                             review\n",
              "0  cv000_29416.txt   neg  plot : two teen couples go to a church party ,...\n",
              "1  cv001_19502.txt   neg  the happy bastard's quick movie review \\ndamn ...\n",
              "2  cv002_17424.txt   neg  it is movies like these that make a jaded movi...\n",
              "3  cv003_12683.txt   neg   \" quest for camelot \" is warner bros . ' firs...\n",
              "4  cv004_12641.txt   neg  synopsis : a mentally unstable man undergoing ..."
            ]
          },
          "metadata": {
            "tags": []
          },
          "execution_count": 2
        }
      ]
    },
    {
      "cell_type": "markdown",
      "metadata": {
        "id": "Q4MOWQPIr5nj"
      },
      "source": [
        "### 2. Splitting DataFrame into training and test set."
      ]
    },
    {
      "cell_type": "code",
      "metadata": {
        "id": "Nh4rBv2Ir5nj"
      },
      "source": [
        "from sklearn.model_selection import train_test_split\n",
        "\n",
        "X = frdf['review']\n",
        "y = frdf['label']\n",
        "\n",
        "X_train, X_test, y_train, y_test = train_test_split(X, y, test_size=0.1, random_state=41)"
      ],
      "execution_count": 3,
      "outputs": []
    },
    {
      "cell_type": "markdown",
      "metadata": {
        "id": "qD89vF9or5nj"
      },
      "source": [
        "### 3. Creating Pipeline for feature extraction and Classification models (Multinomial Naive Bayes, Linear SVC and Maximum Entropy)"
      ]
    },
    {
      "cell_type": "code",
      "metadata": {
        "id": "Fkx1b9Dyr5nj"
      },
      "source": [
        "# Importing the models\n",
        "from sklearn.pipeline import Pipeline\n",
        "from sklearn.metrics import classification_report, confusion_matrix\n",
        "from sklearn import metrics\n",
        "from sklearn.feature_extraction.text import TfidfVectorizer\n",
        "from sklearn.naive_bayes import MultinomialNB\n",
        "from sklearn.svm import SVC\n",
        "from sklearn.linear_model import LogisticRegression\n",
        "from sklearn.ensemble import StackingClassifier\n",
        "\n",
        "# Multinomial Naive Bayes Pipeline:\n",
        "corpus_clf_nb = Pipeline([('tfidf', TfidfVectorizer(sublinear_tf=True, ngram_range=(2, 2))),('clf',MultinomialNB()),])\n",
        "\n",
        "# LinearSVC Pipeline:\n",
        "corpus_clf_lsvc = Pipeline([('tfidf', TfidfVectorizer(sublinear_tf=True)),('clf',SVC(kernel='linear',probability=True)),])\n",
        "\n",
        "# Maximum Entropy Classifier Pipeline:\n",
        "corpus_clf_me = Pipeline([('tfidf', TfidfVectorizer(ngram_range=(1, 2))),('clf', LogisticRegression()),])\n",
        "\n",
        "# Ensamble Stacking Classifier Pipeline:\n",
        "en_clf_stack = StackingClassifier(estimators=[('nb', corpus_clf_nb), ('lsvc', corpus_clf_lsvc), ('me', corpus_clf_me)],final_estimator=LogisticRegression(),cv=6)"
      ],
      "execution_count": 4,
      "outputs": []
    },
    {
      "cell_type": "code",
      "metadata": {
        "id": "eZLrEqQh_DhE"
      },
      "source": [
        "# Saving Model\n",
        "Pklname = \"MovieClf.pkl\"  \n",
        "\n",
        "with open(Pklname, 'wb') as file:  \n",
        "    pickle.dump(en_clf_stack, file)"
      ],
      "execution_count": 5,
      "outputs": []
    },
    {
      "cell_type": "markdown",
      "metadata": {
        "id": "uyabhZcXr5no"
      },
      "source": [
        "#### 4. Fitting Ensamble Stacking Classifier Pipeline to training data and creating predict object."
      ]
    },
    {
      "cell_type": "code",
      "metadata": {
        "id": "GdE96GOgr5no"
      },
      "source": [
        "en_clf_stack.fit(X_train, y_train)\n",
        "STpred = en_clf_stack.predict(X_test)"
      ],
      "execution_count": 6,
      "outputs": []
    },
    {
      "cell_type": "markdown",
      "metadata": {
        "id": "nMszEMbfr5np"
      },
      "source": [
        "#### 5. Checking performance of ESC"
      ]
    },
    {
      "cell_type": "code",
      "metadata": {
        "id": "Pd7Qeieer5np",
        "colab": {
          "base_uri": "https://localhost:8080/"
        },
        "outputId": "3f10beeb-64b4-4c6b-ad29-8215aeb7398d"
      },
      "source": [
        "# Confusion Matrix of ESC\n",
        "\n",
        "confusion_matrix(y_test,STpred)"
      ],
      "execution_count": 7,
      "outputs": [
        {
          "output_type": "execute_result",
          "data": {
            "text/plain": [
              "array([[87,  7],\n",
              "       [ 9, 97]])"
            ]
          },
          "metadata": {
            "tags": []
          },
          "execution_count": 7
        }
      ]
    },
    {
      "cell_type": "code",
      "metadata": {
        "id": "NWaF8y8Hr5np",
        "colab": {
          "base_uri": "https://localhost:8080/"
        },
        "outputId": "7e09f070-6bed-489e-b6fa-c27b0e161ab2"
      },
      "source": [
        "# Classifcation Report of ESC\n",
        "\n",
        "print(classification_report(y_test,STpred))"
      ],
      "execution_count": 8,
      "outputs": [
        {
          "output_type": "stream",
          "text": [
            "              precision    recall  f1-score   support\n",
            "\n",
            "         neg       0.91      0.93      0.92        94\n",
            "         pos       0.93      0.92      0.92       106\n",
            "\n",
            "    accuracy                           0.92       200\n",
            "   macro avg       0.92      0.92      0.92       200\n",
            "weighted avg       0.92      0.92      0.92       200\n",
            "\n"
          ],
          "name": "stdout"
        }
      ]
    },
    {
      "cell_type": "code",
      "metadata": {
        "id": "7baoTiZTr5nq",
        "colab": {
          "base_uri": "https://localhost:8080/"
        },
        "outputId": "300fd2b2-a0b7-4289-ddc5-e349f5cb6978"
      },
      "source": [
        "# Accuracy Score of ESC\n",
        "\n",
        "print(f'Accuracy of Ensamble Classifier Model: {metrics.accuracy_score(y_test,STpred)*100}%')"
      ],
      "execution_count": 9,
      "outputs": [
        {
          "output_type": "stream",
          "text": [
            "Accuracy of Ensamble Classifier Model: 92.0%\n"
          ],
          "name": "stdout"
        }
      ]
    }
  ]
}