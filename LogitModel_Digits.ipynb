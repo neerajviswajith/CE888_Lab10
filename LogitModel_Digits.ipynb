{
  "nbformat": 4,
  "nbformat_minor": 0,
  "metadata": {
    "colab": {
      "name": "LogitModel_Digits.ipynb",
      "provenance": [],
      "authorship_tag": "ABX9TyN/vRUjxHhh0m00aVSI+Q9l",
      "include_colab_link": true
    },
    "kernelspec": {
      "name": "python3",
      "display_name": "Python 3"
    },
    "language_info": {
      "name": "python"
    }
  },
  "cells": [
    {
      "cell_type": "markdown",
      "metadata": {
        "id": "view-in-github",
        "colab_type": "text"
      },
      "source": [
        "<a href=\"https://colab.research.google.com/github/neerajviswajith/CE888_Lab10/blob/main/LogitModel_Digits.ipynb\" target=\"_parent\"><img src=\"https://colab.research.google.com/assets/colab-badge.svg\" alt=\"Open In Colab\"/></a>"
      ]
    },
    {
      "cell_type": "code",
      "metadata": {
        "id": "7HmyNcP45B0k"
      },
      "source": [
        "# Import Packages and Libraries\n",
        "\n",
        "import pickle\n",
        "import pandas as pd\n",
        "from sklearn.linear_model import LogisticRegression  \n",
        "from sklearn.datasets import load_digits\n",
        "from sklearn.model_selection import train_test_split"
      ],
      "execution_count": 18,
      "outputs": []
    },
    {
      "cell_type": "code",
      "metadata": {
        "id": "CyJFBPdJ5YLW"
      },
      "source": [
        "# Loading Data\n",
        "\n",
        "data = load_digits()"
      ],
      "execution_count": 20,
      "outputs": []
    },
    {
      "cell_type": "code",
      "metadata": {
        "id": "gRPnjaP-6FzQ"
      },
      "source": [
        "# Split data\n",
        "Xtrain, Xtest, Ytrain, Ytest = train_test_split(data.data, \n",
        "                                                data.target, \n",
        "                                                test_size=0.3, \n",
        "                                                random_state=4)  "
      ],
      "execution_count": 23,
      "outputs": []
    },
    {
      "cell_type": "code",
      "metadata": {
        "colab": {
          "base_uri": "https://localhost:8080/"
        },
        "id": "_3BO6p4H6Qdo",
        "outputId": "35b4d6dd-0f1b-4b72-8f65-7a44478400cc"
      },
      "source": [
        "# Defining the Lohgistical Regression Model Model\n",
        "LR_Model = LogisticRegression(C=0.1,  \n",
        "                               max_iter=20, \n",
        "                               fit_intercept=True, \n",
        "                               n_jobs=3, \n",
        "                               solver='liblinear')\n",
        "\n",
        "# Train the Model\n",
        "LR_Model.fit(Xtrain, Ytrain) "
      ],
      "execution_count": 24,
      "outputs": [
        {
          "output_type": "stream",
          "text": [
            "/usr/local/lib/python3.7/dist-packages/sklearn/linear_model/_logistic.py:1539: UserWarning: 'n_jobs' > 1 does not have any effect when 'solver' is set to 'liblinear'. Got 'n_jobs' = 3.\n",
            "  \" = {}.\".format(effective_n_jobs(self.n_jobs)))\n"
          ],
          "name": "stderr"
        },
        {
          "output_type": "execute_result",
          "data": {
            "text/plain": [
              "LogisticRegression(C=0.1, class_weight=None, dual=False, fit_intercept=True,\n",
              "                   intercept_scaling=1, l1_ratio=None, max_iter=20,\n",
              "                   multi_class='auto', n_jobs=3, penalty='l2',\n",
              "                   random_state=None, solver='liblinear', tol=0.0001, verbose=0,\n",
              "                   warm_start=False)"
            ]
          },
          "metadata": {
            "tags": []
          },
          "execution_count": 24
        }
      ]
    },
    {
      "cell_type": "code",
      "metadata": {
        "id": "nuzZ_8n46loq"
      },
      "source": [
        "# Saving the model\n",
        "\n",
        "Pkl_Filename = \"DigitsLR_Model.pkl\"  \n",
        "\n",
        "with open(Pkl_Filename, 'wb') as file:  \n",
        "    pickle.dump(LR_Model, file)"
      ],
      "execution_count": 25,
      "outputs": []
    },
    {
      "cell_type": "code",
      "metadata": {
        "colab": {
          "base_uri": "https://localhost:8080/"
        },
        "id": "5CZ-TSbY643q",
        "outputId": "6d1d250d-d4e1-4bbd-a822-e203382ef715"
      },
      "source": [
        "# Loading the Model back from file\n",
        "with open(Pkl_Filename, 'rb') as file:  \n",
        "    Pickled_LR_Model = pickle.load(file)\n",
        "\n",
        "Pickled_LR_Model"
      ],
      "execution_count": 26,
      "outputs": [
        {
          "output_type": "execute_result",
          "data": {
            "text/plain": [
              "LogisticRegression(C=0.1, class_weight=None, dual=False, fit_intercept=True,\n",
              "                   intercept_scaling=1, l1_ratio=None, max_iter=20,\n",
              "                   multi_class='auto', n_jobs=3, penalty='l2',\n",
              "                   random_state=None, solver='liblinear', tol=0.0001, verbose=0,\n",
              "                   warm_start=False)"
            ]
          },
          "metadata": {
            "tags": []
          },
          "execution_count": 26
        }
      ]
    },
    {
      "cell_type": "code",
      "metadata": {
        "colab": {
          "base_uri": "https://localhost:8080/"
        },
        "id": "HAJZEQ7_7THb",
        "outputId": "06ea2bb9-c929-4845-899a-7b7fef963b0f"
      },
      "source": [
        "# Calculate the Score \n",
        "score = Pickled_LR_Model.score(Xtest, Ytest)  \n",
        "\n",
        "# Print the Score\n",
        "print(\"Accuracy score: {0:.2f} %\".format(100 * score))  \n",
        "\n",
        "# Predict the Labels using the reloaded Model\n",
        "Ypredict = Pickled_LR_Model.predict(Xtest)  "
      ],
      "execution_count": 28,
      "outputs": [
        {
          "output_type": "stream",
          "text": [
            "Accuracy score: 97.04 %\n"
          ],
          "name": "stdout"
        }
      ]
    }
  ]
}